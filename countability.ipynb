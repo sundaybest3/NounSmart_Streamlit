{
  "nbformat": 4,
  "nbformat_minor": 0,
  "metadata": {
    "colab": {
      "provenance": [],
      "authorship_tag": "ABX9TyOtyEZu4y5fOwoE7qlY+9dX",
      "include_colab_link": true
    },
    "kernelspec": {
      "name": "python3",
      "display_name": "Python 3"
    },
    "language_info": {
      "name": "python"
    }
  },
  "cells": [
    {
      "cell_type": "markdown",
      "metadata": {
        "id": "view-in-github",
        "colab_type": "text"
      },
      "source": [
        "<a href=\"https://colab.research.google.com/github/sundaybest3/NounSmart_Streamlit/blob/main/countability.ipynb\" target=\"_parent\"><img src=\"https://colab.research.google.com/assets/colab-badge.svg\" alt=\"Open In Colab\"/></a>"
      ]
    },
    {
      "cell_type": "code",
      "source": [
        "%%capture\n",
        "!pip install gradio\n",
        "!pip install pandas\n",
        "!pip install random"
      ],
      "metadata": {
        "id": "pOTS1HHV-kOT"
      },
      "execution_count": 7,
      "outputs": []
    },
    {
      "cell_type": "code",
      "source": [
        "import gradio as gr\n",
        "import pandas as pd\n",
        "import random\n",
        "\n",
        "# Load the CSV file\n",
        "csv_url = \"https://raw.githubusercontent.com/sundaybest3/NounSmart_Streamlit/main/nouns_CE_visang.csv\"\n",
        "df = pd.read_csv(csv_url)\n",
        "\n",
        "# Inspect the columns\n",
        "expected_columns = [\"Unit\", \"Word\", \"Countability\"]\n",
        "missing_columns = [col for col in expected_columns if col not in df.columns]\n",
        "if missing_columns:\n",
        "    raise ValueError(f\"The following required columns are missing in the CSV: {', '.join(missing_columns)}\")\n",
        "\n",
        "# Initialize game state\n",
        "game_state = {\n",
        "    \"nickname\": None,\n",
        "    \"unit\": None,\n",
        "    \"current_noun\": None,\n",
        "    \"remaining_nouns\": None,\n",
        "    \"score\": 0,\n",
        "    \"trials\": 0,\n",
        "}\n",
        "\n",
        "# Function to filter nouns by unit and prepare the list of nouns\n",
        "def initialize_nouns(unit):\n",
        "    filtered_df = df[df[\"Unit\"] == unit]\n",
        "    if filtered_df.empty:\n",
        "        return \"No nouns available for this unit. Please select a different unit.\"\n",
        "    game_state[\"remaining_nouns\"] = filtered_df.sample(frac=1).to_dict(orient=\"records\")\n",
        "    return show_random_noun()\n",
        "\n",
        "# Function to show a random noun\n",
        "def show_random_noun():\n",
        "    if not game_state[\"remaining_nouns\"]:\n",
        "        return f\"🎉 Great job, {game_state['nickname']}! All nouns have been answered correctly. (Score: {game_state['score']}/{game_state['trials']})\"\n",
        "\n",
        "    game_state[\"current_noun\"] = game_state[\"remaining_nouns\"].pop()\n",
        "    return f\"Noun: {game_state['current_noun']['Word']}\"\n",
        "\n",
        "# Function to check user's answer\n",
        "def check_answer(user_choice):\n",
        "    if not game_state.get(\"current_noun\"):\n",
        "        return \"Please click 'Show the Noun' first.\"\n",
        "\n",
        "    correct_answer = game_state[\"current_noun\"][\"Countability\"].strip().lower()\n",
        "    game_state[\"trials\"] += 1\n",
        "\n",
        "    if user_choice.lower() == correct_answer:\n",
        "        game_state[\"score\"] += 1\n",
        "        feedback = f\"Correct! {game_state['current_noun']['Word']} is {correct_answer} in unit {game_state['unit']}.\"\n",
        "    else:\n",
        "        # Add the noun back to the remaining list for retry\n",
        "        game_state[\"remaining_nouns\"].insert(0, game_state[\"current_noun\"])\n",
        "        feedback = f\"Incorrect. {game_state['current_noun']['Word']} is actually {correct_answer}. It will appear again.\"\n",
        "\n",
        "    if not game_state[\"remaining_nouns\"]:\n",
        "        feedback += f\" 🎉 Great job, {game_state['nickname']}! All nouns have been answered correctly. (Score: {game_state['score']}/{game_state['trials']})\"\n",
        "\n",
        "    return feedback + f\" (Score: {game_state['score']} / {game_state['trials']})\"\n",
        "\n",
        "# Gradio interface\n",
        "def main_interface(nickname, unit, user_choice=None):\n",
        "    game_state[\"nickname\"] = nickname\n",
        "    game_state[\"unit\"] = unit\n",
        "\n",
        "    if game_state[\"remaining_nouns\"] is None:\n",
        "        return initialize_nouns(unit), \"\"\n",
        "\n",
        "    if user_choice is None:\n",
        "        return show_random_noun(), f\"Score: {game_state['score']} / {game_state['trials']}\"\n",
        "\n",
        "    feedback = check_answer(user_choice)\n",
        "    return feedback, feedback\n",
        "\n",
        "# Gradio app components\n",
        "with gr.Blocks() as app:\n",
        "    nickname = gr.Textbox(label=\"Enter your nickname:\")\n",
        "    unit = gr.Dropdown(choices=df[\"Unit\"].dropna().unique().tolist(), label=\"Select your unit:\")\n",
        "    show_button = gr.Button(\"Show the Noun\")\n",
        "    noun_display = gr.Textbox(label=\"Noun:\", interactive=False)\n",
        "    user_choice = gr.Radio(choices=[\"Countable\", \"Uncountable\"], label=\"Is the noun countable or uncountable?\")\n",
        "    submit_button = gr.Button(\"Submit Answer\")\n",
        "    feedback_display = gr.Textbox(label=\"Feedback and Score:\", interactive=False)\n",
        "\n",
        "    show_button.click(fn=main_interface, inputs=[nickname, unit], outputs=[noun_display, feedback_display])\n",
        "    submit_button.click(fn=main_interface, inputs=[nickname, unit, user_choice], outputs=[feedback_display, feedback_display])\n",
        "\n",
        "app.launch()\n"
      ],
      "metadata": {
        "colab": {
          "base_uri": "https://localhost:8080/",
          "height": 649
        },
        "id": "1g-YoGc3OcL-",
        "outputId": "521eab38-1d82-44df-da3e-bf5c4a44fb9f"
      },
      "execution_count": 19,
      "outputs": [
        {
          "output_type": "stream",
          "name": "stdout",
          "text": [
            "Running Gradio in a Colab notebook requires sharing enabled. Automatically setting `share=True` (you can turn this off by setting `share=False` in `launch()` explicitly).\n",
            "\n",
            "Colab notebook detected. To show errors in colab notebook, set debug=True in launch()\n",
            "* Running on public URL: https://923ffa804428a8a7fa.gradio.live\n",
            "\n",
            "This share link expires in 72 hours. For free permanent hosting and GPU upgrades, run `gradio deploy` from the terminal in the working directory to deploy to Hugging Face Spaces (https://huggingface.co/spaces)\n"
          ]
        },
        {
          "output_type": "display_data",
          "data": {
            "text/plain": [
              "<IPython.core.display.HTML object>"
            ],
            "text/html": [
              "<div><iframe src=\"https://923ffa804428a8a7fa.gradio.live\" width=\"100%\" height=\"500\" allow=\"autoplay; camera; microphone; clipboard-read; clipboard-write;\" frameborder=\"0\" allowfullscreen></iframe></div>"
            ]
          },
          "metadata": {}
        },
        {
          "output_type": "execute_result",
          "data": {
            "text/plain": []
          },
          "metadata": {},
          "execution_count": 19
        }
      ]
    },
    {
      "cell_type": "code",
      "source": [
        "import gradio as gr\n",
        "import pandas as pd\n",
        "import random\n",
        "\n",
        "# Load the CSV file\n",
        "csv_url = \"https://raw.githubusercontent.com/sundaybest3/NounSmart_Streamlit/main/nouns_CE_visang.csv\"\n",
        "df = pd.read_csv(csv_url)\n",
        "\n",
        "# Inspect the columns\n",
        "expected_columns = [\"Unit\", \"Word\", \"Countability\"]\n",
        "missing_columns = [col for col in expected_columns if col not in df.columns]\n",
        "if missing_columns:\n",
        "    raise ValueError(f\"The following required columns are missing in the CSV: {', '.join(missing_columns)}\")\n",
        "\n",
        "# Initialize game state\n",
        "game_state = {\n",
        "    \"nickname\": None,\n",
        "    \"unit\": None,\n",
        "    \"current_noun\": None,\n",
        "    \"score\": 0,\n",
        "    \"trials\": 0,\n",
        "}\n",
        "\n",
        "# Function to filter nouns by unit and show a random noun\n",
        "def show_random_noun(unit):\n",
        "    filtered_df = df[df[\"Unit\"] == unit]\n",
        "    if filtered_df.empty:\n",
        "        return \"No nouns available for this unit. Please select a different unit.\"\n",
        "\n",
        "    noun_data = filtered_df.sample().iloc[0]\n",
        "    game_state[\"current_noun\"] = {\n",
        "        \"noun\": noun_data[\"Word\"],\n",
        "        \"countability\": noun_data[\"Countability\"].strip().lower(),\n",
        "    }\n",
        "    return f\"Noun: {game_state['current_noun']['noun']}\"\n",
        "\n",
        "# Function to check user's answer\n",
        "def check_answer(user_choice):\n",
        "    if not game_state.get(\"current_noun\"):\n",
        "        return \"Please click 'Show the Noun' first.\"\n",
        "\n",
        "    correct_answer = game_state[\"current_noun\"][\"countability\"]\n",
        "    game_state[\"trials\"] += 1\n",
        "\n",
        "    if user_choice.lower() == correct_answer:\n",
        "        game_state[\"score\"] += 1\n",
        "        feedback = f\"✅Correct! {game_state['current_noun']['noun']} is {correct_answer} in unit {game_state['unit']}. Click 'Show the Noun' button to continue.\"\n",
        "    else:\n",
        "        feedback = f\"❌Incorrect. {game_state['current_noun']['noun']} is actually {correct_answer}. The noun will appear again.Click 'Show the Noun' button to continue.\"\n",
        "\n",
        "    return feedback\n",
        "\n",
        "# Gradio interface\n",
        "def main_interface(nickname, unit, user_choice=None):\n",
        "    game_state[\"nickname\"] = nickname\n",
        "    game_state[\"unit\"] = unit\n",
        "\n",
        "    if user_choice is None:\n",
        "        return show_random_noun(unit), f\"Score: {game_state['score']} / {game_state['trials']}\"\n",
        "\n",
        "    feedback = check_answer(user_choice)\n",
        "    return feedback, f\"Score: {game_state['score']} / {game_state['trials']}\"\n",
        "\n",
        "# Gradio app components\n",
        "with gr.Blocks() as app:\n",
        "    nickname = gr.Textbox(label=\"Enter your nickname:\")\n",
        "    unit = gr.Dropdown(choices=df[\"Unit\"].dropna().unique().tolist(), label=\"Select your unit:\")\n",
        "    show_button = gr.Button(\"Show the Noun\")\n",
        "    noun_display = gr.Textbox(label=\"Noun:\", interactive=False)\n",
        "    user_choice = gr.Radio(choices=[\"Countable\", \"Uncountable\"], label=\"Is the noun countable or uncountable?\")\n",
        "    submit_button = gr.Button(\"Submit Answer\")\n",
        "    feedback_display = gr.Textbox(label=\"Feedback:\", interactive=False)\n",
        "    score_display = gr.Textbox(label=\"Score:\", interactive=False)\n",
        "\n",
        "    show_button.click(fn=main_interface, inputs=[nickname, unit], outputs=[noun_display, score_display])\n",
        "    submit_button.click(fn=main_interface, inputs=[nickname, unit, user_choice], outputs=[feedback_display, score_display])\n",
        "\n",
        "app.launch()\n"
      ],
      "metadata": {
        "colab": {
          "base_uri": "https://localhost:8080/",
          "height": 649
        },
        "id": "Th9v-SP2JfKW",
        "outputId": "311a2b21-b647-480e-cf73-8135a83af10f"
      },
      "execution_count": 14,
      "outputs": [
        {
          "output_type": "stream",
          "name": "stdout",
          "text": [
            "Running Gradio in a Colab notebook requires sharing enabled. Automatically setting `share=True` (you can turn this off by setting `share=False` in `launch()` explicitly).\n",
            "\n",
            "Colab notebook detected. To show errors in colab notebook, set debug=True in launch()\n",
            "* Running on public URL: https://4cb2b54f539b8c7f16.gradio.live\n",
            "\n",
            "This share link expires in 72 hours. For free permanent hosting and GPU upgrades, run `gradio deploy` from the terminal in the working directory to deploy to Hugging Face Spaces (https://huggingface.co/spaces)\n"
          ]
        },
        {
          "output_type": "display_data",
          "data": {
            "text/plain": [
              "<IPython.core.display.HTML object>"
            ],
            "text/html": [
              "<div><iframe src=\"https://4cb2b54f539b8c7f16.gradio.live\" width=\"100%\" height=\"500\" allow=\"autoplay; camera; microphone; clipboard-read; clipboard-write;\" frameborder=\"0\" allowfullscreen></iframe></div>"
            ]
          },
          "metadata": {}
        },
        {
          "output_type": "execute_result",
          "data": {
            "text/plain": []
          },
          "metadata": {},
          "execution_count": 14
        }
      ]
    }
  ]
}